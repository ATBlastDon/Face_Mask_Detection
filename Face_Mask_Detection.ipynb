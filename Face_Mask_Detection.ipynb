{
  "nbformat": 4,
  "nbformat_minor": 0,
  "metadata": {
    "colab": {
      "provenance": [],
      "gpuType": "T4"
    },
    "kernelspec": {
      "name": "python3",
      "display_name": "Python 3"
    },
    "language_info": {
      "name": "python"
    },
    "accelerator": "GPU"
  },
  "cells": [
    {
      "cell_type": "markdown",
      "source": [
        "# 1. Import libraries\n"
      ],
      "metadata": {
        "id": "1WQ0q_5mOiqj"
      }
    },
    {
      "cell_type": "code",
      "execution_count": 53,
      "metadata": {
        "id": "N_CLqBul-P73"
      },
      "outputs": [],
      "source": [
        "import kagglehub\n",
        "import os\n",
        "import numpy as np\n",
        "from PIL import Image\n",
        "from sklearn.model_selection import train_test_split\n",
        "import tensorflow as tf\n",
        "from tensorflow import keras\n",
        "import matplotlib.pyplot as plt\n",
        "import cv2\n",
        "from google.colab.patches import cv2_imshow"
      ]
    },
    {
      "cell_type": "markdown",
      "source": [
        "# 2. Download dataset\n"
      ],
      "metadata": {
        "id": "MKIrkEC5zrjA"
      }
    },
    {
      "cell_type": "code",
      "source": [
        "path = kagglehub.dataset_download(\"omkargurav/face-mask-dataset\")\n",
        "data_path = os.path.join(path, \"data\")\n",
        "\n",
        "with_mask_path = os.path.join(data_path, \"with_mask\")\n",
        "without_mask_path = os.path.join(data_path, \"without_mask\")"
      ],
      "metadata": {
        "id": "yEUQCcZPzlfo",
        "colab": {
          "base_uri": "https://localhost:8080/"
        },
        "outputId": "e83b4d9a-6504-44fd-9643-c580f715f01b"
      },
      "execution_count": 54,
      "outputs": [
        {
          "output_type": "stream",
          "name": "stdout",
          "text": [
            "Using Colab cache for faster access to the 'face-mask-dataset' dataset.\n"
          ]
        }
      ]
    },
    {
      "cell_type": "markdown",
      "source": [
        "# 3. Convert images to numpy arrays"
      ],
      "metadata": {
        "id": "v4Fb-qQZLkqx"
      }
    },
    {
      "cell_type": "code",
      "source": [
        "data = []\n",
        "labels = []\n",
        "\n",
        "# With mask images\n",
        "for img_file in os.listdir(with_mask_path):\n",
        "    img_path = os.path.join(with_mask_path, img_file)\n",
        "    image = Image.open(img_path).resize((128,128)).convert('RGB')\n",
        "    data.append(np.array(image))\n",
        "    labels.append(1)\n",
        "\n",
        "# Without mask images\n",
        "for img_file in os.listdir(without_mask_path):\n",
        "    img_path = os.path.join(without_mask_path, img_file)\n",
        "    image = Image.open(img_path).resize((128,128)).convert('RGB')\n",
        "    data.append(np.array(image))\n",
        "    labels.append(0)"
      ],
      "metadata": {
        "id": "i4xGbBHq0PSo",
        "colab": {
          "base_uri": "https://localhost:8080/"
        },
        "outputId": "181b54ef-ceeb-4f4d-9df4-e9b14f7bb4ab"
      },
      "execution_count": 55,
      "outputs": [
        {
          "output_type": "stream",
          "name": "stderr",
          "text": [
            "/usr/local/lib/python3.12/dist-packages/PIL/Image.py:1047: UserWarning: Palette images with Transparency expressed in bytes should be converted to RGBA images\n",
            "  warnings.warn(\n"
          ]
        }
      ]
    },
    {
      "cell_type": "markdown",
      "source": [
        "# 4. Convert to numpy arrays"
      ],
      "metadata": {
        "id": "mhXAo4AULtYf"
      }
    },
    {
      "cell_type": "code",
      "source": [
        "X = np.array(data, dtype='float32') / 255.0\n",
        "Y = np.array(labels)"
      ],
      "metadata": {
        "id": "K_q6sypb0mqK"
      },
      "execution_count": 56,
      "outputs": []
    },
    {
      "cell_type": "markdown",
      "source": [
        "# 5. Split into train/test\n"
      ],
      "metadata": {
        "id": "ufsgHcnlLzjw"
      }
    },
    {
      "cell_type": "code",
      "source": [
        "X_train, X_test, Y_train, Y_test = train_test_split(X, Y, test_size=0.2, random_state=2)"
      ],
      "metadata": {
        "id": "o5s8Mk350yqo"
      },
      "execution_count": 57,
      "outputs": []
    },
    {
      "cell_type": "markdown",
      "source": [
        "# 6. Build CNN\n"
      ],
      "metadata": {
        "id": "fIEifMkE1Vr8"
      }
    },
    {
      "cell_type": "code",
      "source": [
        "num_classes = 2\n",
        "\n",
        "model = keras.Sequential([\n",
        "    keras.layers.Conv2D(32, (3,3), activation='relu', input_shape=(128,128,3)),\n",
        "    keras.layers.MaxPooling2D(2,2),\n",
        "\n",
        "    keras.layers.Conv2D(64, (3,3), activation='relu'),\n",
        "    keras.layers.MaxPooling2D(2,2),\n",
        "\n",
        "    keras.layers.Conv2D(128, (3,3), activation='relu'),\n",
        "    keras.layers.MaxPooling2D(2,2),\n",
        "\n",
        "    keras.layers.Conv2D(256, (3,3), activation='relu'),\n",
        "    keras.layers.MaxPooling2D(2,2),\n",
        "\n",
        "    keras.layers.Flatten(),\n",
        "    keras.layers.Dense(256, activation='relu'),\n",
        "    keras.layers.Dropout(0.5),\n",
        "    keras.layers.Dense(128, activation='relu'),\n",
        "    keras.layers.Dropout(0.5),\n",
        "    keras.layers.Dense(num_classes, activation='softmax')\n",
        "])"
      ],
      "metadata": {
        "id": "M2EK-RtI1FUS",
        "colab": {
          "base_uri": "https://localhost:8080/"
        },
        "outputId": "3fc2950f-c2c2-4c1f-d3a6-6e462bbf6cf1"
      },
      "execution_count": 58,
      "outputs": [
        {
          "output_type": "stream",
          "name": "stderr",
          "text": [
            "/usr/local/lib/python3.12/dist-packages/keras/src/layers/convolutional/base_conv.py:113: UserWarning: Do not pass an `input_shape`/`input_dim` argument to a layer. When using Sequential models, prefer using an `Input(shape)` object as the first layer in the model instead.\n",
            "  super().__init__(activity_regularizer=activity_regularizer, **kwargs)\n"
          ]
        }
      ]
    },
    {
      "cell_type": "markdown",
      "source": [
        "# 7. Compile\n"
      ],
      "metadata": {
        "id": "b4ojH3RqMAal"
      }
    },
    {
      "cell_type": "code",
      "source": [
        "model.compile(optimizer='adam',\n",
        "              loss='sparse_categorical_crossentropy',\n",
        "              metrics=['accuracy'])"
      ],
      "metadata": {
        "id": "xJTydgcb13Bc"
      },
      "execution_count": 59,
      "outputs": []
    },
    {
      "cell_type": "markdown",
      "source": [
        "# 8. Train\n"
      ],
      "metadata": {
        "id": "AX7u2NZ6MKIv"
      }
    },
    {
      "cell_type": "code",
      "source": [
        "history = model.fit(X_train, Y_train, validation_split=0.1, epochs=15)"
      ],
      "metadata": {
        "colab": {
          "base_uri": "https://localhost:8080/"
        },
        "id": "OrIbqLhV193_",
        "outputId": "9e4f1d3c-63a0-493d-8aa3-0de0e8a4206c"
      },
      "execution_count": 60,
      "outputs": [
        {
          "output_type": "stream",
          "name": "stdout",
          "text": [
            "Epoch 1/15\n",
            "\u001b[1m170/170\u001b[0m \u001b[32m━━━━━━━━━━━━━━━━━━━━\u001b[0m\u001b[37m\u001b[0m \u001b[1m12s\u001b[0m 48ms/step - accuracy: 0.7255 - loss: 0.5103 - val_accuracy: 0.9256 - val_loss: 0.2002\n",
            "Epoch 2/15\n",
            "\u001b[1m170/170\u001b[0m \u001b[32m━━━━━━━━━━━━━━━━━━━━\u001b[0m\u001b[37m\u001b[0m \u001b[1m4s\u001b[0m 22ms/step - accuracy: 0.9236 - loss: 0.2216 - val_accuracy: 0.9587 - val_loss: 0.1178\n",
            "Epoch 3/15\n",
            "\u001b[1m170/170\u001b[0m \u001b[32m━━━━━━━━━━━━━━━━━━━━\u001b[0m\u001b[37m\u001b[0m \u001b[1m4s\u001b[0m 22ms/step - accuracy: 0.9339 - loss: 0.1874 - val_accuracy: 0.9438 - val_loss: 0.1499\n",
            "Epoch 4/15\n",
            "\u001b[1m170/170\u001b[0m \u001b[32m━━━━━━━━━━━━━━━━━━━━\u001b[0m\u001b[37m\u001b[0m \u001b[1m4s\u001b[0m 21ms/step - accuracy: 0.9377 - loss: 0.1588 - val_accuracy: 0.9620 - val_loss: 0.1546\n",
            "Epoch 5/15\n",
            "\u001b[1m170/170\u001b[0m \u001b[32m━━━━━━━━━━━━━━━━━━━━\u001b[0m\u001b[37m\u001b[0m \u001b[1m4s\u001b[0m 21ms/step - accuracy: 0.9517 - loss: 0.1420 - val_accuracy: 0.9818 - val_loss: 0.0902\n",
            "Epoch 6/15\n",
            "\u001b[1m170/170\u001b[0m \u001b[32m━━━━━━━━━━━━━━━━━━━━\u001b[0m\u001b[37m\u001b[0m \u001b[1m4s\u001b[0m 21ms/step - accuracy: 0.9582 - loss: 0.1188 - val_accuracy: 0.9587 - val_loss: 0.1311\n",
            "Epoch 7/15\n",
            "\u001b[1m170/170\u001b[0m \u001b[32m━━━━━━━━━━━━━━━━━━━━\u001b[0m\u001b[37m\u001b[0m \u001b[1m5s\u001b[0m 21ms/step - accuracy: 0.9569 - loss: 0.1145 - val_accuracy: 0.9669 - val_loss: 0.1112\n",
            "Epoch 8/15\n",
            "\u001b[1m170/170\u001b[0m \u001b[32m━━━━━━━━━━━━━━━━━━━━\u001b[0m\u001b[37m\u001b[0m \u001b[1m4s\u001b[0m 21ms/step - accuracy: 0.9718 - loss: 0.0944 - val_accuracy: 0.9736 - val_loss: 0.1049\n",
            "Epoch 9/15\n",
            "\u001b[1m170/170\u001b[0m \u001b[32m━━━━━━━━━━━━━━━━━━━━\u001b[0m\u001b[37m\u001b[0m \u001b[1m4s\u001b[0m 22ms/step - accuracy: 0.9746 - loss: 0.0824 - val_accuracy: 0.9521 - val_loss: 0.1612\n",
            "Epoch 10/15\n",
            "\u001b[1m170/170\u001b[0m \u001b[32m━━━━━━━━━━━━━━━━━━━━\u001b[0m\u001b[37m\u001b[0m \u001b[1m4s\u001b[0m 21ms/step - accuracy: 0.9706 - loss: 0.0791 - val_accuracy: 0.9620 - val_loss: 0.1290\n",
            "Epoch 11/15\n",
            "\u001b[1m170/170\u001b[0m \u001b[32m━━━━━━━━━━━━━━━━━━━━\u001b[0m\u001b[37m\u001b[0m \u001b[1m4s\u001b[0m 21ms/step - accuracy: 0.9822 - loss: 0.0533 - val_accuracy: 0.9802 - val_loss: 0.1324\n",
            "Epoch 12/15\n",
            "\u001b[1m170/170\u001b[0m \u001b[32m━━━━━━━━━━━━━━━━━━━━\u001b[0m\u001b[37m\u001b[0m \u001b[1m5s\u001b[0m 22ms/step - accuracy: 0.9734 - loss: 0.0823 - val_accuracy: 0.9636 - val_loss: 0.1794\n",
            "Epoch 13/15\n",
            "\u001b[1m170/170\u001b[0m \u001b[32m━━━━━━━━━━━━━━━━━━━━\u001b[0m\u001b[37m\u001b[0m \u001b[1m4s\u001b[0m 21ms/step - accuracy: 0.9811 - loss: 0.0515 - val_accuracy: 0.9752 - val_loss: 0.1092\n",
            "Epoch 14/15\n",
            "\u001b[1m170/170\u001b[0m \u001b[32m━━━━━━━━━━━━━━━━━━━━\u001b[0m\u001b[37m\u001b[0m \u001b[1m4s\u001b[0m 21ms/step - accuracy: 0.9886 - loss: 0.0341 - val_accuracy: 0.9736 - val_loss: 0.1111\n",
            "Epoch 15/15\n",
            "\u001b[1m170/170\u001b[0m \u001b[32m━━━━━━━━━━━━━━━━━━━━\u001b[0m\u001b[37m\u001b[0m \u001b[1m4s\u001b[0m 21ms/step - accuracy: 0.9858 - loss: 0.0413 - val_accuracy: 0.9702 - val_loss: 0.1646\n"
          ]
        }
      ]
    },
    {
      "cell_type": "markdown",
      "source": [
        "# 9. Model Evaluation"
      ],
      "metadata": {
        "id": "M7FVqeVIAyLK"
      }
    },
    {
      "cell_type": "code",
      "source": [
        "loss, accuracy = model.evaluate(X_test, Y_test)\n",
        "print('Test Accuracy =', accuracy)"
      ],
      "metadata": {
        "colab": {
          "base_uri": "https://localhost:8080/"
        },
        "id": "_IXu88q_AVo_",
        "outputId": "10040d17-892d-430a-bb6e-b5ee1111b397"
      },
      "execution_count": 61,
      "outputs": [
        {
          "output_type": "stream",
          "name": "stdout",
          "text": [
            "\u001b[1m48/48\u001b[0m \u001b[32m━━━━━━━━━━━━━━━━━━━━\u001b[0m\u001b[37m\u001b[0m \u001b[1m1s\u001b[0m 18ms/step - accuracy: 0.9540 - loss: 0.2248\n",
            "Test Accuracy = 0.955658495426178\n"
          ]
        }
      ]
    },
    {
      "cell_type": "markdown",
      "source": [
        "# 10. Plot training history\n"
      ],
      "metadata": {
        "id": "tLtF15_KNT2I"
      }
    },
    {
      "cell_type": "code",
      "source": [
        "h = history\n",
        "\n",
        "# Loss\n",
        "plt.plot(h.history['loss'], label='train loss')\n",
        "plt.plot(h.history['val_loss'], label='validation loss')\n",
        "plt.legend()\n",
        "plt.show()\n",
        "\n",
        "# Accuracy\n",
        "plt.plot(h.history['accuracy'], label='train accuracy')\n",
        "plt.plot(h.history['val_accuracy'], label='validation accuracy')\n",
        "plt.legend()\n",
        "plt.show()"
      ],
      "metadata": {
        "colab": {
          "base_uri": "https://localhost:8080/",
          "height": 844
        },
        "id": "hbNukwKJq9gv",
        "outputId": "735e400d-0b26-46be-f032-02b654c92d75"
      },
      "execution_count": 62,
      "outputs": [
        {
          "output_type": "display_data",
          "data": {
            "text/plain": [
              "<Figure size 640x480 with 1 Axes>"
            ],
            "image/png": "[encoded data removed]"
          },
          "metadata": {}
        },
        {
          "output_type": "display_data",
          "data": {
            "text/plain": [
              "<Figure size 640x480 with 1 Axes>"
            ],
            "image/png": "[encoded data removed]"
          },
          "metadata": {}
        }
      ]
    },
    {
      "cell_type": "markdown",
      "source": [
        "# 11. Predict on a new image"
      ],
      "metadata": {
        "id": "uWvPB4q2ByT3"
      }
    },
    {
      "cell_type": "code",
      "source": [
        "from google.colab import files\n",
        "from google.colab.patches import cv2_imshow\n",
        "\n",
        "# constants\n",
        "IMAGE_SIZE = (128,128)\n",
        "face_cascade = cv2.CascadeClassifier(cv2.data.haarcascades + 'haarcascade_frontalface_default.xml')\n",
        "\n",
        "# ---------- helpers ----------\n",
        "def preprocess_face_from_bgr(img_bgr, margin_ratio=0.12, image_size=IMAGE_SIZE):\n",
        "    img_rgb = cv2.cvtColor(img_bgr, cv2.COLOR_BGR2RGB)\n",
        "    gray = cv2.cvtColor(img_rgb, cv2.COLOR_RGB2GRAY)\n",
        "    gray = cv2.equalizeHist(gray)\n",
        "\n",
        "    faces = face_cascade.detectMultiScale(\n",
        "        gray, scaleFactor=1.05, minNeighbors=3, minSize=(40,40)\n",
        "    )\n",
        "\n",
        "    if len(faces) == 0:\n",
        "        # try relaxed parameters\n",
        "        faces = face_cascade.detectMultiScale(\n",
        "            gray, scaleFactor=1.01, minNeighbors=2, minSize=(30,30)\n",
        "        )\n",
        "\n",
        "    if len(faces) == 0:\n",
        "        # Return None if no face found\n",
        "        return None, None\n",
        "\n",
        "    # Choose the largest face\n",
        "    x, y, w, h = max(faces, key=lambda r: r[2]*r[3])\n",
        "    m = int(margin_ratio * max(w, h))\n",
        "    x1, y1 = max(0, x - m), max(0, y - m)\n",
        "    x2, y2 = min(img_rgb.shape[1], x + w + m), min(img_rgb.shape[0], y + h + m)\n",
        "\n",
        "    face_rgb = img_rgb[y1:y2, x1:x2]\n",
        "    face_display = cv2.cvtColor(face_rgb, cv2.COLOR_RGB2BGR)\n",
        "    face_resized = cv2.resize(face_rgb, image_size)\n",
        "    face_input = np.expand_dims(face_resized.astype('float32') / 255.0, axis=0)\n",
        "\n",
        "    return face_input, face_display\n",
        "\n",
        "# run calibration once\n",
        "label_map = {0: \"Not wearing mask\", 1: \"Wearing mask\"}\n",
        "\n",
        "def predict_and_show(img_bgr, expected=None):\n",
        "    face_input, face_display = preprocess_face_from_bgr(img_bgr)\n",
        "    if face_input is None:\n",
        "        print(\"No face detected!\")\n",
        "        return None, None\n",
        "    probs = model.predict(face_input, verbose=0)[0]\n",
        "    idx = int(np.argmax(probs))\n",
        "    pred_label = label_map[idx]\n",
        "    conf = probs[idx]\n",
        "    cv2_imshow(face_display)\n",
        "    if expected:\n",
        "        print(\"Expected:\", expected)\n",
        "    print(f\"Predicted: {pred_label}  (conf={conf:.3f})\\n\")\n",
        "    return pred_label, conf\n",
        "\n",
        "# ---------- interactive mode ----------\n",
        "print(\"Choose input mode:\\n1 = predefined dataset image\\n2 = upload image(s)\")\n",
        "mode = input(\"Enter 1 or 2: \").strip()\n",
        "\n",
        "if mode == \"1\":\n",
        "    print(\"1 = with_mask    2 = without_mask\")\n",
        "    cat = input(\"Enter 1 or 2: \").strip()\n",
        "    folder = with_mask_path if cat == \"1\" else without_mask_path\n",
        "    expected = \"Wearing mask\" if cat == \"1\" else \"Not wearing mask\"\n",
        "    nums = input(\"Enter image number(s) separated by commas (e.g., 1,34): \")\n",
        "    for n in [x.strip() for x in nums.split(\",\") if x.strip()]:\n",
        "        img_file = f\"{'with_mask_' if cat=='1' else 'without_mask_'}{n}.jpg\"\n",
        "        p = os.path.join(folder, img_file)\n",
        "        img = cv2.imread(p)\n",
        "        if img is None:\n",
        "            print(\"Not found:\", p); continue\n",
        "        print(\"\\nFile:\", img_file)\n",
        "        predict_and_show(img, expected=expected)\n",
        "\n",
        "elif mode == \"2\":\n",
        "    uploaded = files.upload()\n",
        "    for name in uploaded .keys():\n",
        "        img = cv2.imread(name)\n",
        "        if img is None:\n",
        "            print(\"Cannot read:\", name); continue\n",
        "        print(\"\\nUploaded:\", name)\n",
        "        predict_and_show(img)\n",
        "\n",
        "else:\n",
        "    print(\"Invalid choice\")\n"
      ],
      "metadata": {
        "colab": {
          "base_uri": "https://localhost:8080/",
          "height": 290
        },
        "id": "fnfLs7D6KF-F",
        "outputId": "f7d8a06f-6b31-4aa4-8405-863a42688b80"
      },
      "execution_count": 77,
      "outputs": [
        {
          "output_type": "stream",
          "name": "stdout",
          "text": [
            "Choose input mode:\n",
            "1 = predefined dataset image\n",
            "2 = upload image(s)\n",
            "Enter 1 or 2: 1\n",
            "1 = with_mask    2 = without_mask\n",
            "Enter 1 or 2: 2\n",
            "Enter image number(s) separated by commas (e.g., 1,34): 1\n",
            "\n",
            "File: without_mask_1.jpg\n"
          ]
        },
        {
          "output_type": "display_data",
          "data": {
            "text/plain": [
              "<PIL.Image.Image image mode=RGB size=65x65>"
            ],
            "image/png": "[encoded data removed]",
            "image/jpeg": "[encoded data removed]"
          },
          "metadata": {}
        },
        {
          "output_type": "stream",
          "name": "stdout",
          "text": [
            "Expected: Not wearing mask\n",
            "Predicted: Not wearing mask  (conf=1.000)\n",
            "\n"
          ]
        }
      ]
    }
  ]
}